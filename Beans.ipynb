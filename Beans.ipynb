{
  "nbformat": 4,
  "nbformat_minor": 0,
  "metadata": {
    "accelerator": "GPU",
    "colab": {
      "name": "Beans.ipynb",
      "provenance": [],
      "collapsed_sections": [],
      "toc_visible": true,
      "include_colab_link": true
    },
    "kernelspec": {
      "display_name": "Python 3",
      "name": "python3"
    }
  },
  "cells": [
    {
      "cell_type": "markdown",
      "metadata": {
        "id": "view-in-github",
        "colab_type": "text"
      },
      "source": [
        "<a href=\"https://colab.research.google.com/github/waadshaher/image-classification/blob/main/Beans.ipynb\" target=\"_parent\"><img src=\"https://colab.research.google.com/assets/colab-badge.svg\" alt=\"Open In Colab\"/></a>"
      ]
    },
    {
      "cell_type": "markdown",
      "metadata": {
        "id": "n6ecAvsmQp1I"
      },
      "source": [
        "# CNN Model To Recognize And Classify Beans Into Their Appropriate Classes.\n"
      ]
    },
    {
      "cell_type": "markdown",
      "metadata": {
        "id": "77gENRVX40S7"
      },
      "source": [
        "*Names: Waad, syabil, tazin*"
      ]
    },
    {
      "cell_type": "code",
      "metadata": {
        "id": "iBMcobPHdD8O"
      },
      "source": [
        "import tensorflow as tf\n",
        "import os\n",
        "import numpy as np\n",
        "\n",
        "import matplotlib.pyplot as plt\n",
        "from tensorflow.keras.preprocessing.image import ImageDataGenerator"
      ],
      "execution_count": null,
      "outputs": []
    },
    {
      "cell_type": "markdown",
      "metadata": {
        "id": "v77rlkCKW0IJ"
      },
      "source": [
        "## Load the Data From Beans Dataset"
      ]
    },
    {
      "cell_type": "markdown",
      "metadata": {
        "id": "j4QOy2uA3P_p"
      },
      "source": [
        "Download the beans dataset then place it into a directory variable. Here, the training set is downloaded."
      ]
    },
    {
      "cell_type": "code",
      "metadata": {
        "id": "xxL2mjVVGIrV",
        "colab": {
          "base_uri": "https://localhost:8080/"
        },
        "outputId": "cb5c03c8-4910-4e2d-bf37-cc59f9757982"
      },
      "source": [
        "_URL = 'https://storage.googleapis.com/ibeans/train.zip'\n",
        "zip_dir = tf.keras.utils.get_file('train.zip', origin=_URL, extract=True)\n",
        "\n",
        "\n",
        "base_dir = os.path.join(os.path.dirname(zip_dir), 'train')"
      ],
      "execution_count": null,
      "outputs": [
        {
          "output_type": "stream",
          "text": [
            "Downloading data from https://storage.googleapis.com/ibeans/train.zip\n",
            "143818752/143812152 [==============================] - 2s 0us/step\n"
          ],
          "name": "stdout"
        }
      ]
    },
    {
      "cell_type": "markdown",
      "metadata": {
        "id": "GonxmOIHocCR"
      },
      "source": [
        "While here, the validation set is downloaded"
      ]
    },
    {
      "cell_type": "code",
      "metadata": {
        "id": "6k0fL9M_SYtV",
        "colab": {
          "base_uri": "https://localhost:8080/"
        },
        "outputId": "3bcd570b-7fda-4e01-d275-8535d250fe63"
      },
      "source": [
        "_TESTURL = \"https://storage.googleapis.com/ibeans/validation.zip\"\n",
        "\n",
        "zip_file_val = tf.keras.utils.get_file(origin=_TESTURL, \n",
        "                                   fname=\"validation.zip\", \n",
        "                                   extract=True)\n",
        "\n",
        "base_dir_val = os.path.join(os.path.dirname(zip_file_val), 'validation')"
      ],
      "execution_count": null,
      "outputs": [
        {
          "output_type": "stream",
          "text": [
            "Downloading data from https://storage.googleapis.com/ibeans/validation.zip\n",
            "18505728/18504213 [==============================] - 0s 0us/step\n"
          ],
          "name": "stdout"
        }
      ]
    },
    {
      "cell_type": "markdown",
      "metadata": {
        "id": "slexgqdFpD7O"
      },
      "source": [
        "## Preprocess the Loaded Data"
      ]
    },
    {
      "cell_type": "markdown",
      "metadata": {
        "id": "z4gTv7ig2vMh"
      },
      "source": [
        "`ImageDataGenerator` class is used for the purpose of rescaling the input images from both training and validation splits, in this way, new images are created, or generated, that would be used as inputs too.\n",
        "\n",
        "The value from the class is saved to these variables."
      ]
    },
    {
      "cell_type": "markdown",
      "metadata": {
        "id": "x1r-o6c6wf8t"
      },
      "source": [
        "Convinence variables are also created (`IMAGE_SIZE`,`BATCH_SIZE`), these would be used in the next step."
      ]
    },
    {
      "cell_type": "code",
      "metadata": {
        "id": "dXnbtMG8UyBc"
      },
      "source": [
        "train_image_generator      = ImageDataGenerator(rescale=1./255) \n",
        "validation_image_generator = ImageDataGenerator(rescale=1./255)  \n",
        "IMAGE_SIZE = 224\n",
        "BATCH_SIZE = 64"
      ],
      "execution_count": null,
      "outputs": []
    },
    {
      "cell_type": "markdown",
      "metadata": {
        "id": "SvsIFRYfszOJ"
      },
      "source": [
        "The train generator is created and as parameters listed: the train dataset directory, image size, batch size, target size, and shuffle. Shuffle is set to true because during training, we would want the training images to be shuffled at each iteration.\n",
        "\n",
        "`flow_from_directory()` method is used, this is to use the `ImageDataGenerator` class using the variables created in the previous step.\n"
      ]
    },
    {
      "cell_type": "code",
      "metadata": {
        "id": "vBdUVtX1U0bU",
        "colab": {
          "base_uri": "https://localhost:8080/"
        },
        "outputId": "68073880-71f7-4d6f-84a5-3b30137b3516"
      },
      "source": [
        "train_data_gen = train_image_generator.flow_from_directory(batch_size=BATCH_SIZE,\n",
        "                                                           directory=base_dir,\n",
        "                                                           shuffle=True,\n",
        "                                                           target_size=(IMAGE_SIZE,IMAGE_SIZE) \n",
        "                                                           )"
      ],
      "execution_count": null,
      "outputs": [
        {
          "output_type": "stream",
          "text": [
            "Found 1034 images belonging to 3 classes.\n"
          ],
          "name": "stdout"
        }
      ]
    },
    {
      "cell_type": "markdown",
      "metadata": {
        "id": "_CNPAxU2uc_4"
      },
      "source": [
        "Validation generator is created with almost the same approach, the difference here, shuffle is set to false, since there is no need to shuffle the images during validation, and the directory is set to the validation directory evidently. "
      ]
    },
    {
      "cell_type": "code",
      "metadata": {
        "id": "P6Tlyi-dU3Gf",
        "colab": {
          "base_uri": "https://localhost:8080/"
        },
        "outputId": "b543d63d-e569-4e4a-9b84-5b75851abebb"
      },
      "source": [
        "val_data_gen = validation_image_generator.flow_from_directory(batch_size=BATCH_SIZE,\n",
        "                                                              directory=base_dir_val,\n",
        "                                                              shuffle=False,\n",
        "                                                              target_size=(IMAGE_SIZE,IMAGE_SIZE), \n",
        "                                                              )"
      ],
      "execution_count": null,
      "outputs": [
        {
          "output_type": "stream",
          "text": [
            "Found 133 images belonging to 3 classes.\n"
          ],
          "name": "stdout"
        }
      ]
    },
    {
      "cell_type": "markdown",
      "metadata": {
        "id": "TcYB2wc91Uaf"
      },
      "source": [
        "##Creating the Base Model from Google's MobileNetV2"
      ]
    },
    {
      "cell_type": "markdown",
      "metadata": {
        "id": "OkH-kazQecHB"
      },
      "source": [
        "`IMAGE_SHAPE` is created as a convenience variable as well, taking in the unified `IMAGE_SIZE` for all images. 3 in the parameter is explained because simply computers interpret colored images as 3D arrays, 3 representing width, height, and depth.\n",
        "\n",
        "Next the base model is created **MobileNet V2** model. It takes the following parameters: `input_shape`, `include_top`, `weights`.\n",
        "\n",
        "*  `input_shape`: simply takes the unified sizes of the input images as input. Images need to be resized to one unified size since our NN requires a fixed size of inputs. \n",
        "\n",
        "*  `include_top`: is set to false because since we need the base model to work as a feature exractor, therefore the parameter is set to false so it does not include the model's classification layers at the top.\n",
        "\n",
        "*  `weights`: using the ImageNet weights.\n"
      ]
    },
    {
      "cell_type": "code",
      "metadata": {
        "id": "19IQ2gqneqmS",
        "colab": {
          "base_uri": "https://localhost:8080/"
        },
        "outputId": "8fd580d4-ab0b-46da-a381-23179a99a487"
      },
      "source": [
        "IMG_SHAPE = (IMAGE_SIZE, IMAGE_SIZE, 3)\n",
        "\n",
        "base_model = tf.keras.applications.MobileNetV2(input_shape=IMG_SHAPE,\n",
        "                                              include_top=False, \n",
        "                                              weights='imagenet')"
      ],
      "execution_count": null,
      "outputs": [
        {
          "output_type": "stream",
          "text": [
            "Downloading data from https://storage.googleapis.com/tensorflow/keras-applications/mobilenet_v2/mobilenet_v2_weights_tf_dim_ordering_tf_kernels_1.0_224_no_top.h5\n",
            "9412608/9406464 [==============================] - 0s 0us/step\n"
          ],
          "name": "stdout"
        }
      ]
    },
    {
      "cell_type": "markdown",
      "metadata": {
        "id": "cbCzYS1D2MLO"
      },
      "source": [
        "##Modifying V2 Model"
      ]
    },
    {
      "cell_type": "markdown",
      "metadata": {
        "id": "v4dDZHk31rZF"
      },
      "source": [
        "### Set Feature Extraction Method From V2's Model"
      ]
    },
    {
      "cell_type": "markdown",
      "metadata": {
        "id": "rlx56nQtfe8Y"
      },
      "source": [
        "To be able to use the above model as a feature extractor only, it is set to `False`"
      ]
    },
    {
      "cell_type": "code",
      "metadata": {
        "id": "Tts8BbAtRGvk"
      },
      "source": [
        "base_model.trainable = False"
      ],
      "execution_count": null,
      "outputs": []
    },
    {
      "cell_type": "markdown",
      "metadata": {
        "id": "wdMRM8YModbk"
      },
      "source": [
        "### Add the Convolutional Layer"
      ]
    },
    {
      "cell_type": "markdown",
      "metadata": {
        "id": "nCYwuT8i2UlR"
      },
      "source": [
        "After the base model has been set to false, a custom classifier can be added using `tf.keras.Sequential`.\n",
        "\n",
        "First the base model is added. A convolutional layer is added with activation function relu.\n",
        "\n",
        "Dropout is also performed to avoid overfitting, set to probability of 0.2, or 20%, that each neuron gets dropped.\n",
        "\n",
        "A pooling layer is added using `GlobalAveragePooling2D()` to perform pooling.\n",
        "\n",
        "Finally, a fully connected layer is added with 3 units (corresponding to 3 classes of the dataset) with softmax activation function.\n"
      ]
    },
    {
      "cell_type": "code",
      "metadata": {
        "id": "eApvroIyn1K0"
      },
      "source": [
        "model = tf.keras.Sequential([\n",
        "  base_model,\n",
        "  tf.keras.layers.Conv2D(32, 3, activation='relu'),\n",
        "  tf.keras.layers.Dropout(0.2),\n",
        "  tf.keras.layers.GlobalAveragePooling2D(),\n",
        "  tf.keras.layers.Dense(3, activation='softmax')\n",
        "])"
      ],
      "execution_count": null,
      "outputs": []
    },
    {
      "cell_type": "markdown",
      "metadata": {
        "id": "niXQXv7X7iGW"
      },
      "source": [
        "## Compile the Model"
      ]
    },
    {
      "cell_type": "markdown",
      "metadata": {
        "id": "g0ylJXE_kRLi"
      },
      "source": [
        "Before the model is trained, it must be compiled using the following `compile()` method. The parameters listed: \n",
        "\n",
        "*   `optimizer`: Using `Adam()` optimizer with default learning rate of 0.001\n",
        "*   `loss`: Using a categorical cross-entropy loss, since there are several classes.\n",
        "*   `metrics`: Since we would want to see the training and validation accuracies, the metrics is set to accuracy.\n",
        "\n"
      ]
    },
    {
      "cell_type": "code",
      "metadata": {
        "id": "RpR8HdyMhukJ"
      },
      "source": [
        "model.compile(optimizer=tf.keras.optimizers.Adam(), \n",
        "              loss='categorical_crossentropy', \n",
        "              metrics=['accuracy'])"
      ],
      "execution_count": null,
      "outputs": []
    },
    {
      "cell_type": "markdown",
      "metadata": {
        "id": "IMe9JfT18nHG"
      },
      "source": [
        "We can check the model's layers along with their information using `summary()` method."
      ]
    },
    {
      "cell_type": "code",
      "metadata": {
        "id": "I8ARiyMFsgbH",
        "colab": {
          "base_uri": "https://localhost:8080/"
        },
        "outputId": "31c966bc-0d2c-4063-ebea-b504fdb89dbd"
      },
      "source": [
        "model.summary()"
      ],
      "execution_count": null,
      "outputs": [
        {
          "output_type": "stream",
          "text": [
            "Model: \"sequential\"\n",
            "_________________________________________________________________\n",
            "Layer (type)                 Output Shape              Param #   \n",
            "=================================================================\n",
            "mobilenetv2_1.00_224 (Functi (None, 7, 7, 1280)        2257984   \n",
            "_________________________________________________________________\n",
            "conv2d (Conv2D)              (None, 5, 5, 32)          368672    \n",
            "_________________________________________________________________\n",
            "dropout (Dropout)            (None, 5, 5, 32)          0         \n",
            "_________________________________________________________________\n",
            "global_average_pooling2d (Gl (None, 32)                0         \n",
            "_________________________________________________________________\n",
            "dense (Dense)                (None, 3)                 99        \n",
            "=================================================================\n",
            "Total params: 2,626,755\n",
            "Trainable params: 368,771\n",
            "Non-trainable params: 2,257,984\n",
            "_________________________________________________________________\n"
          ],
          "name": "stdout"
        }
      ]
    },
    {
      "cell_type": "markdown",
      "metadata": {
        "id": "RxvgOYTDSWTx"
      },
      "source": [
        "## Train the Model"
      ]
    },
    {
      "cell_type": "markdown",
      "metadata": {
        "id": "CpaxsDEd83lA"
      },
      "source": [
        "With 100 epochs set, and using the previous generators created earlier, the model can now be finally trained."
      ]
    },
    {
      "cell_type": "code",
      "metadata": {
        "id": "JsaRFlZ9B6WK",
        "colab": {
          "base_uri": "https://localhost:8080/"
        },
        "outputId": "f5a1ad98-b366-4820-dea1-064a2cb4153b"
      },
      "source": [
        "epochs = 100\n",
        "\n",
        "history = model.fit(train_data_gen, \n",
        "                    steps_per_epoch=len(train_data_gen), \n",
        "                    epochs=epochs, \n",
        "                    validation_data=val_data_gen, \n",
        "                    validation_steps=len(val_data_gen))"
      ],
      "execution_count": null,
      "outputs": [
        {
          "output_type": "stream",
          "text": [
            "Epoch 1/100\n",
            "17/17 [==============================] - 43s 497ms/step - loss: 3.7773 - accuracy: 0.3870 - val_loss: 0.8499 - val_accuracy: 0.5564\n",
            "Epoch 2/100\n",
            "17/17 [==============================] - 7s 428ms/step - loss: 0.8082 - accuracy: 0.5875 - val_loss: 0.5918 - val_accuracy: 0.6617\n",
            "Epoch 3/100\n",
            "17/17 [==============================] - 7s 410ms/step - loss: 0.5399 - accuracy: 0.7385 - val_loss: 0.4248 - val_accuracy: 0.7895\n",
            "Epoch 4/100\n",
            "17/17 [==============================] - 7s 415ms/step - loss: 0.3720 - accuracy: 0.8472 - val_loss: 0.3544 - val_accuracy: 0.8421\n",
            "Epoch 5/100\n",
            "17/17 [==============================] - 7s 410ms/step - loss: 0.3153 - accuracy: 0.8465 - val_loss: 0.3354 - val_accuracy: 0.8571\n",
            "Epoch 6/100\n",
            "17/17 [==============================] - 7s 410ms/step - loss: 0.2791 - accuracy: 0.8775 - val_loss: 0.2928 - val_accuracy: 0.8872\n",
            "Epoch 7/100\n",
            "17/17 [==============================] - 7s 410ms/step - loss: 0.2178 - accuracy: 0.9223 - val_loss: 0.3491 - val_accuracy: 0.8195\n",
            "Epoch 8/100\n",
            "17/17 [==============================] - 7s 409ms/step - loss: 0.2087 - accuracy: 0.9287 - val_loss: 0.2999 - val_accuracy: 0.8947\n",
            "Epoch 9/100\n",
            "17/17 [==============================] - 7s 408ms/step - loss: 0.1634 - accuracy: 0.9330 - val_loss: 0.2618 - val_accuracy: 0.9098\n",
            "Epoch 10/100\n",
            "17/17 [==============================] - 7s 411ms/step - loss: 0.1386 - accuracy: 0.9523 - val_loss: 0.2572 - val_accuracy: 0.9248\n",
            "Epoch 11/100\n",
            "17/17 [==============================] - 7s 409ms/step - loss: 0.1003 - accuracy: 0.9805 - val_loss: 0.2607 - val_accuracy: 0.9173\n",
            "Epoch 12/100\n",
            "17/17 [==============================] - 7s 410ms/step - loss: 0.0978 - accuracy: 0.9686 - val_loss: 0.2301 - val_accuracy: 0.8947\n",
            "Epoch 13/100\n",
            "17/17 [==============================] - 7s 422ms/step - loss: 0.0901 - accuracy: 0.9683 - val_loss: 0.2197 - val_accuracy: 0.9323\n",
            "Epoch 14/100\n",
            "17/17 [==============================] - 7s 409ms/step - loss: 0.0688 - accuracy: 0.9883 - val_loss: 0.2198 - val_accuracy: 0.9248\n",
            "Epoch 15/100\n",
            "17/17 [==============================] - 7s 407ms/step - loss: 0.0489 - accuracy: 0.9946 - val_loss: 0.2287 - val_accuracy: 0.9173\n",
            "Epoch 16/100\n",
            "17/17 [==============================] - 7s 408ms/step - loss: 0.0534 - accuracy: 0.9850 - val_loss: 0.2678 - val_accuracy: 0.9398\n",
            "Epoch 17/100\n",
            "17/17 [==============================] - 7s 416ms/step - loss: 0.0684 - accuracy: 0.9850 - val_loss: 0.2259 - val_accuracy: 0.9098\n",
            "Epoch 18/100\n",
            "17/17 [==============================] - 7s 410ms/step - loss: 0.0477 - accuracy: 0.9925 - val_loss: 0.2161 - val_accuracy: 0.9398\n",
            "Epoch 19/100\n",
            "17/17 [==============================] - 7s 410ms/step - loss: 0.0430 - accuracy: 0.9907 - val_loss: 0.3901 - val_accuracy: 0.8947\n",
            "Epoch 20/100\n",
            "17/17 [==============================] - 7s 415ms/step - loss: 0.0638 - accuracy: 0.9832 - val_loss: 0.3720 - val_accuracy: 0.9023\n",
            "Epoch 21/100\n",
            "17/17 [==============================] - 7s 414ms/step - loss: 0.0576 - accuracy: 0.9801 - val_loss: 0.2529 - val_accuracy: 0.9098\n",
            "Epoch 22/100\n",
            "17/17 [==============================] - 7s 409ms/step - loss: 0.0368 - accuracy: 0.9910 - val_loss: 0.2369 - val_accuracy: 0.9323\n",
            "Epoch 23/100\n",
            "17/17 [==============================] - 7s 411ms/step - loss: 0.0334 - accuracy: 0.9938 - val_loss: 0.2682 - val_accuracy: 0.9323\n",
            "Epoch 24/100\n",
            "17/17 [==============================] - 7s 407ms/step - loss: 0.0230 - accuracy: 0.9967 - val_loss: 0.2423 - val_accuracy: 0.9323\n",
            "Epoch 25/100\n",
            "17/17 [==============================] - 7s 410ms/step - loss: 0.0197 - accuracy: 0.9966 - val_loss: 0.2443 - val_accuracy: 0.9398\n",
            "Epoch 26/100\n",
            "17/17 [==============================] - 7s 408ms/step - loss: 0.0156 - accuracy: 0.9996 - val_loss: 0.2616 - val_accuracy: 0.9323\n",
            "Epoch 27/100\n",
            "17/17 [==============================] - 7s 431ms/step - loss: 0.0163 - accuracy: 0.9976 - val_loss: 0.2279 - val_accuracy: 0.9248\n",
            "Epoch 28/100\n",
            "17/17 [==============================] - 7s 417ms/step - loss: 0.0179 - accuracy: 0.9985 - val_loss: 0.2158 - val_accuracy: 0.9173\n",
            "Epoch 29/100\n",
            "17/17 [==============================] - 7s 413ms/step - loss: 0.0199 - accuracy: 0.9956 - val_loss: 0.2226 - val_accuracy: 0.9248\n",
            "Epoch 30/100\n",
            "17/17 [==============================] - 7s 409ms/step - loss: 0.0174 - accuracy: 0.9994 - val_loss: 0.2388 - val_accuracy: 0.9474\n",
            "Epoch 31/100\n",
            "17/17 [==============================] - 7s 408ms/step - loss: 0.0101 - accuracy: 1.0000 - val_loss: 0.2343 - val_accuracy: 0.9474\n",
            "Epoch 32/100\n",
            "17/17 [==============================] - 7s 409ms/step - loss: 0.0108 - accuracy: 0.9991 - val_loss: 0.2296 - val_accuracy: 0.9398\n",
            "Epoch 33/100\n",
            "17/17 [==============================] - 7s 409ms/step - loss: 0.0083 - accuracy: 1.0000 - val_loss: 0.2283 - val_accuracy: 0.9398\n",
            "Epoch 34/100\n",
            "17/17 [==============================] - 7s 406ms/step - loss: 0.0096 - accuracy: 0.9997 - val_loss: 0.2727 - val_accuracy: 0.9474\n",
            "Epoch 35/100\n",
            "17/17 [==============================] - 7s 427ms/step - loss: 0.0092 - accuracy: 0.9989 - val_loss: 0.2309 - val_accuracy: 0.9323\n",
            "Epoch 36/100\n",
            "17/17 [==============================] - 7s 415ms/step - loss: 0.0102 - accuracy: 0.9975 - val_loss: 0.2753 - val_accuracy: 0.9323\n",
            "Epoch 37/100\n",
            "17/17 [==============================] - 7s 414ms/step - loss: 0.0145 - accuracy: 0.9983 - val_loss: 0.4018 - val_accuracy: 0.9248\n",
            "Epoch 38/100\n",
            "17/17 [==============================] - 7s 427ms/step - loss: 0.0290 - accuracy: 0.9910 - val_loss: 0.2503 - val_accuracy: 0.9323\n",
            "Epoch 39/100\n",
            "17/17 [==============================] - 7s 409ms/step - loss: 0.0113 - accuracy: 0.9988 - val_loss: 0.2863 - val_accuracy: 0.9323\n",
            "Epoch 40/100\n",
            "17/17 [==============================] - 7s 406ms/step - loss: 0.0059 - accuracy: 1.0000 - val_loss: 0.2823 - val_accuracy: 0.9323\n",
            "Epoch 41/100\n",
            "17/17 [==============================] - 7s 428ms/step - loss: 0.0063 - accuracy: 1.0000 - val_loss: 0.2598 - val_accuracy: 0.9398\n",
            "Epoch 42/100\n",
            "17/17 [==============================] - 7s 406ms/step - loss: 0.0051 - accuracy: 1.0000 - val_loss: 0.2893 - val_accuracy: 0.9323\n",
            "Epoch 43/100\n",
            "17/17 [==============================] - 7s 403ms/step - loss: 0.0055 - accuracy: 0.9995 - val_loss: 0.2619 - val_accuracy: 0.9323\n",
            "Epoch 44/100\n",
            "17/17 [==============================] - 7s 402ms/step - loss: 0.0058 - accuracy: 1.0000 - val_loss: 0.2770 - val_accuracy: 0.9398\n",
            "Epoch 45/100\n",
            "17/17 [==============================] - 7s 408ms/step - loss: 0.0050 - accuracy: 1.0000 - val_loss: 0.3010 - val_accuracy: 0.9323\n",
            "Epoch 46/100\n",
            "17/17 [==============================] - 7s 408ms/step - loss: 0.0038 - accuracy: 1.0000 - val_loss: 0.3121 - val_accuracy: 0.9323\n",
            "Epoch 47/100\n",
            "17/17 [==============================] - 7s 409ms/step - loss: 0.0036 - accuracy: 1.0000 - val_loss: 0.2942 - val_accuracy: 0.9474\n",
            "Epoch 48/100\n",
            "17/17 [==============================] - 7s 403ms/step - loss: 0.0051 - accuracy: 1.0000 - val_loss: 0.2817 - val_accuracy: 0.9323\n",
            "Epoch 49/100\n",
            "17/17 [==============================] - 7s 403ms/step - loss: 0.0062 - accuracy: 1.0000 - val_loss: 0.2680 - val_accuracy: 0.9248\n",
            "Epoch 50/100\n",
            "17/17 [==============================] - 7s 403ms/step - loss: 0.0049 - accuracy: 1.0000 - val_loss: 0.2944 - val_accuracy: 0.9398\n",
            "Epoch 51/100\n",
            "17/17 [==============================] - 7s 409ms/step - loss: 0.0035 - accuracy: 1.0000 - val_loss: 0.3037 - val_accuracy: 0.9398\n",
            "Epoch 52/100\n",
            "17/17 [==============================] - 7s 407ms/step - loss: 0.0032 - accuracy: 1.0000 - val_loss: 0.3075 - val_accuracy: 0.9398\n",
            "Epoch 53/100\n",
            "17/17 [==============================] - 7s 404ms/step - loss: 0.0031 - accuracy: 1.0000 - val_loss: 0.3198 - val_accuracy: 0.9323\n",
            "Epoch 54/100\n",
            "17/17 [==============================] - 7s 401ms/step - loss: 0.0022 - accuracy: 1.0000 - val_loss: 0.3142 - val_accuracy: 0.9323\n",
            "Epoch 55/100\n",
            "17/17 [==============================] - 7s 407ms/step - loss: 0.0031 - accuracy: 1.0000 - val_loss: 0.3168 - val_accuracy: 0.9323\n",
            "Epoch 56/100\n",
            "17/17 [==============================] - 7s 403ms/step - loss: 0.0044 - accuracy: 1.0000 - val_loss: 0.3098 - val_accuracy: 0.9398\n",
            "Epoch 57/100\n",
            "17/17 [==============================] - 7s 404ms/step - loss: 0.0021 - accuracy: 1.0000 - val_loss: 0.3434 - val_accuracy: 0.9323\n",
            "Epoch 58/100\n",
            "17/17 [==============================] - 7s 406ms/step - loss: 0.0031 - accuracy: 1.0000 - val_loss: 0.3497 - val_accuracy: 0.9323\n",
            "Epoch 59/100\n",
            "17/17 [==============================] - 7s 404ms/step - loss: 0.0041 - accuracy: 1.0000 - val_loss: 0.3080 - val_accuracy: 0.9398\n",
            "Epoch 60/100\n",
            "17/17 [==============================] - 7s 404ms/step - loss: 0.0043 - accuracy: 1.0000 - val_loss: 0.2982 - val_accuracy: 0.9248\n",
            "Epoch 61/100\n",
            "17/17 [==============================] - 7s 405ms/step - loss: 0.0026 - accuracy: 1.0000 - val_loss: 0.3303 - val_accuracy: 0.9398\n",
            "Epoch 62/100\n",
            "17/17 [==============================] - 7s 405ms/step - loss: 0.0017 - accuracy: 1.0000 - val_loss: 0.3257 - val_accuracy: 0.9398\n",
            "Epoch 63/100\n",
            "17/17 [==============================] - 7s 410ms/step - loss: 0.0017 - accuracy: 1.0000 - val_loss: 0.3171 - val_accuracy: 0.9398\n",
            "Epoch 64/100\n",
            "17/17 [==============================] - 7s 412ms/step - loss: 0.0024 - accuracy: 1.0000 - val_loss: 0.3629 - val_accuracy: 0.9323\n",
            "Epoch 65/100\n",
            "17/17 [==============================] - 7s 408ms/step - loss: 0.0023 - accuracy: 1.0000 - val_loss: 0.3161 - val_accuracy: 0.9398\n",
            "Epoch 66/100\n",
            "17/17 [==============================] - 7s 408ms/step - loss: 0.0027 - accuracy: 1.0000 - val_loss: 0.3121 - val_accuracy: 0.9398\n",
            "Epoch 67/100\n",
            "17/17 [==============================] - 7s 407ms/step - loss: 0.0022 - accuracy: 1.0000 - val_loss: 0.3778 - val_accuracy: 0.9323\n",
            "Epoch 68/100\n",
            "17/17 [==============================] - 7s 406ms/step - loss: 0.0028 - accuracy: 1.0000 - val_loss: 0.3476 - val_accuracy: 0.9398\n",
            "Epoch 69/100\n",
            "17/17 [==============================] - 7s 406ms/step - loss: 0.0016 - accuracy: 1.0000 - val_loss: 0.3238 - val_accuracy: 0.9398\n",
            "Epoch 70/100\n",
            "17/17 [==============================] - 7s 408ms/step - loss: 0.0019 - accuracy: 1.0000 - val_loss: 0.3406 - val_accuracy: 0.9398\n",
            "Epoch 71/100\n",
            "17/17 [==============================] - 7s 429ms/step - loss: 0.0014 - accuracy: 1.0000 - val_loss: 0.3431 - val_accuracy: 0.9398\n",
            "Epoch 72/100\n",
            "17/17 [==============================] - 7s 428ms/step - loss: 0.0016 - accuracy: 1.0000 - val_loss: 0.3364 - val_accuracy: 0.9398\n",
            "Epoch 73/100\n",
            "17/17 [==============================] - 7s 409ms/step - loss: 0.0015 - accuracy: 1.0000 - val_loss: 0.3724 - val_accuracy: 0.9323\n",
            "Epoch 74/100\n",
            "17/17 [==============================] - 7s 407ms/step - loss: 0.0018 - accuracy: 1.0000 - val_loss: 0.3197 - val_accuracy: 0.9398\n",
            "Epoch 75/100\n",
            "17/17 [==============================] - 7s 411ms/step - loss: 0.0019 - accuracy: 1.0000 - val_loss: 0.3499 - val_accuracy: 0.9398\n",
            "Epoch 76/100\n",
            "17/17 [==============================] - 7s 406ms/step - loss: 0.0013 - accuracy: 1.0000 - val_loss: 0.3307 - val_accuracy: 0.9398\n",
            "Epoch 77/100\n",
            "17/17 [==============================] - 7s 401ms/step - loss: 0.0012 - accuracy: 1.0000 - val_loss: 0.3469 - val_accuracy: 0.9398\n",
            "Epoch 78/100\n",
            "17/17 [==============================] - 7s 402ms/step - loss: 0.0016 - accuracy: 1.0000 - val_loss: 0.3595 - val_accuracy: 0.9398\n",
            "Epoch 79/100\n",
            "17/17 [==============================] - 7s 402ms/step - loss: 0.0013 - accuracy: 1.0000 - val_loss: 0.3434 - val_accuracy: 0.9398\n",
            "Epoch 80/100\n",
            "17/17 [==============================] - 7s 410ms/step - loss: 0.0014 - accuracy: 1.0000 - val_loss: 0.3660 - val_accuracy: 0.9398\n",
            "Epoch 81/100\n",
            "17/17 [==============================] - 7s 411ms/step - loss: 0.0010 - accuracy: 1.0000 - val_loss: 0.3505 - val_accuracy: 0.9398\n",
            "Epoch 82/100\n",
            "17/17 [==============================] - 7s 406ms/step - loss: 0.0018 - accuracy: 1.0000 - val_loss: 0.3415 - val_accuracy: 0.9398\n",
            "Epoch 83/100\n",
            "17/17 [==============================] - 7s 408ms/step - loss: 0.0017 - accuracy: 1.0000 - val_loss: 0.3718 - val_accuracy: 0.9323\n",
            "Epoch 84/100\n",
            "17/17 [==============================] - 7s 403ms/step - loss: 0.0010 - accuracy: 1.0000 - val_loss: 0.3934 - val_accuracy: 0.9323\n",
            "Epoch 85/100\n",
            "17/17 [==============================] - 7s 407ms/step - loss: 0.0014 - accuracy: 1.0000 - val_loss: 0.3728 - val_accuracy: 0.9398\n",
            "Epoch 86/100\n",
            "17/17 [==============================] - 7s 405ms/step - loss: 0.0015 - accuracy: 1.0000 - val_loss: 0.3987 - val_accuracy: 0.9323\n",
            "Epoch 87/100\n",
            "17/17 [==============================] - 7s 407ms/step - loss: 0.0012 - accuracy: 1.0000 - val_loss: 0.3614 - val_accuracy: 0.9398\n",
            "Epoch 88/100\n",
            "17/17 [==============================] - 7s 404ms/step - loss: 0.0012 - accuracy: 1.0000 - val_loss: 0.3847 - val_accuracy: 0.9323\n",
            "Epoch 89/100\n",
            "17/17 [==============================] - 7s 407ms/step - loss: 8.8299e-04 - accuracy: 1.0000 - val_loss: 0.3762 - val_accuracy: 0.9398\n",
            "Epoch 90/100\n",
            "17/17 [==============================] - 7s 409ms/step - loss: 8.1973e-04 - accuracy: 1.0000 - val_loss: 0.3750 - val_accuracy: 0.9398\n",
            "Epoch 91/100\n",
            "17/17 [==============================] - 7s 403ms/step - loss: 0.0020 - accuracy: 1.0000 - val_loss: 0.3639 - val_accuracy: 0.9398\n",
            "Epoch 92/100\n",
            "17/17 [==============================] - 7s 404ms/step - loss: 9.6813e-04 - accuracy: 1.0000 - val_loss: 0.4012 - val_accuracy: 0.9323\n",
            "Epoch 93/100\n",
            "17/17 [==============================] - 7s 406ms/step - loss: 9.9525e-04 - accuracy: 1.0000 - val_loss: 0.4051 - val_accuracy: 0.9323\n",
            "Epoch 94/100\n",
            "17/17 [==============================] - 7s 404ms/step - loss: 0.0010 - accuracy: 1.0000 - val_loss: 0.4100 - val_accuracy: 0.9323\n",
            "Epoch 95/100\n",
            "17/17 [==============================] - 7s 403ms/step - loss: 8.8555e-04 - accuracy: 1.0000 - val_loss: 0.3778 - val_accuracy: 0.9398\n",
            "Epoch 96/100\n",
            "17/17 [==============================] - 7s 406ms/step - loss: 8.7425e-04 - accuracy: 1.0000 - val_loss: 0.3990 - val_accuracy: 0.9323\n",
            "Epoch 97/100\n",
            "17/17 [==============================] - 7s 426ms/step - loss: 9.2171e-04 - accuracy: 1.0000 - val_loss: 0.3802 - val_accuracy: 0.9398\n",
            "Epoch 98/100\n",
            "17/17 [==============================] - 7s 410ms/step - loss: 8.2075e-04 - accuracy: 1.0000 - val_loss: 0.3910 - val_accuracy: 0.9323\n",
            "Epoch 99/100\n",
            "17/17 [==============================] - 7s 410ms/step - loss: 7.6926e-04 - accuracy: 1.0000 - val_loss: 0.3921 - val_accuracy: 0.9323\n",
            "Epoch 100/100\n",
            "17/17 [==============================] - 7s 405ms/step - loss: 6.9836e-04 - accuracy: 1.0000 - val_loss: 0.3921 - val_accuracy: 0.9323\n"
          ],
          "name": "stdout"
        }
      ]
    },
    {
      "cell_type": "markdown",
      "metadata": {
        "id": "EIVrmmvO-E9h"
      },
      "source": [
        "## Plotting the Results"
      ]
    },
    {
      "cell_type": "markdown",
      "metadata": {
        "id": "Hd94CKImf8vi"
      },
      "source": [
        " We can plot the results using `matplotlib`'s help. Here we can specify what we want to translate the results from the previous step into graphs.\n",
        "\n",
        "In the following 2 graphs, we can see the training and validation accuracies, as well as the training and validation losses. "
      ]
    },
    {
      "cell_type": "code",
      "metadata": {
        "id": "53OTCh3jnbwV",
        "colab": {
          "base_uri": "https://localhost:8080/"
        },
        "outputId": "978a4af4-27cd-4a52-f9a7-31b8fcdd385f"
      },
      "source": [
        "acc = history.history['accuracy']\n",
        "val_acc = history.history['val_accuracy']\n",
        "\n",
        "loss = history.history['loss']\n",
        "val_loss = history.history['val_loss']\n",
        "\n",
        "plt.figure(figsize=(8, 8))\n",
        "plt.subplot(2, 1, 1)\n",
        "plt.plot(acc, label='Training Accuracy')\n",
        "plt.plot(val_acc, label='Validation Accuracy')\n",
        "plt.legend(loc='lower right')\n",
        "plt.ylabel('Accuracy')\n",
        "plt.ylim([min(plt.ylim()),1])\n",
        "plt.title('Training and Validation Accuracy')\n",
        "\n",
        "plt.subplot(2, 1, 2)\n",
        "plt.plot(loss, label='Training Loss')\n",
        "plt.plot(val_loss, label='Validation Loss')\n",
        "plt.legend(loc='upper right')\n",
        "plt.ylabel('Cross Entropy')\n",
        "plt.ylim([0,1.0])\n",
        "plt.title('Training and Validation Loss')\n",
        "plt.xlabel('epoch')\n",
        "plt.show()"
      ],
      "execution_count": null,
      "outputs": [
        {
          "output_type": "display_data",
          "data": {
            "image/png": "[encoded data removed]",
            "text/plain": [
              "<Figure size 576x576 with 2 Axes>"
            ]
          },
          "metadata": {
            "tags": [],
            "needs_background": "light"
          }
        }
      ]
    }
  ]
}