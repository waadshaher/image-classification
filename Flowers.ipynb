{
  "nbformat": 4,
  "nbformat_minor": 0,
  "metadata": {
    "accelerator": "GPU",
    "colab": {
      "name": "Flowers",
      "provenance": [],
      "collapsed_sections": [],
      "toc_visible": true,
      "include_colab_link": true
    },
    "kernelspec": {
      "display_name": "Python 3",
      "name": "python3"
    }
  },
  "cells": [
    {
      "cell_type": "markdown",
      "metadata": {
        "id": "view-in-github",
        "colab_type": "text"
      },
      "source": [
        "<a href=\"https://colab.research.google.com/github/waadshaher/image-classification/blob/flowers/Flowers.ipynb\" target=\"_parent\"><img src=\"https://colab.research.google.com/assets/colab-badge.svg\" alt=\"Open In Colab\"/></a>"
      ]
    },
    {
      "cell_type": "markdown",
      "metadata": {
        "id": "KKev-aguWej6"
      },
      "source": [
        "# CNN Model To Recognize And Classify Flowers Into Their Appropriate Classes.\n"
      ]
    },
    {
      "cell_type": "markdown",
      "metadata": {
        "id": "CIwsWheagVII"
      },
      "source": [
        "*Names: Waad, syabil, tazin*"
      ]
    },
    {
      "cell_type": "code",
      "metadata": {
        "id": "iBMcobPHdD8O"
      },
      "source": [
        "import tensorflow as tf\n",
        "\n",
        "import os\n",
        "import numpy as np\n",
        "import matplotlib.pyplot as plt"
      ],
      "execution_count": null,
      "outputs": []
    },
    {
      "cell_type": "markdown",
      "metadata": {
        "id": "lMeIzNufgqBU"
      },
      "source": [
        "## Load the Data From Flowers Dataset"
      ]
    },
    {
      "cell_type": "markdown",
      "metadata": {
        "id": "3J5tvv-egrwB"
      },
      "source": [
        "Download the flowers dataset then place it into a directory variable. Here, the training set is downloaded."
      ]
    },
    {
      "cell_type": "code",
      "metadata": {
        "id": "xxL2mjVVGIrV"
      },
      "source": [
        "_URL = \"https://storage.googleapis.com/download.tensorflow.org/example_images/flower_photos.tgz\"\n",
        "\n",
        "zip_file = tf.keras.utils.get_file(origin=_URL, \n",
        "                                   fname=\"flower_photos.tgz\", \n",
        "                                   extract=True)\n",
        "\n",
        "base_dir = os.path.join(os.path.dirname(zip_file), 'flower_photos')"
      ],
      "execution_count": null,
      "outputs": []
    },
    {
      "cell_type": "markdown",
      "metadata": {
        "id": "slexgqdFpD7O"
      },
      "source": [
        "## Preprocess the Loaded Data"
      ]
    },
    {
      "cell_type": "markdown",
      "metadata": {
        "id": "x1r-o6c6wf8t"
      },
      "source": [
        "Convinence variables are also created (`IMAGE_SIZE`,`BATCH_SIZE`), these would be used in the next step."
      ]
    },
    {
      "cell_type": "markdown",
      "metadata": {
        "id": "hr8mW5U-gzoX"
      },
      "source": [
        "`ImageDataGenerator` class is used for the purpose of rescaling the input images from both training and validation splits, in this way, new images are created, or generated, that would be used as inputs too. For flowers dataset, the parameter `validation_split` is set to 0.2, in which 20% of the total images from the training set is saved for validation.\n",
        "\n",
        "The value from the class is saved to the variable `image_generator`."
      ]
    },
    {
      "cell_type": "markdown",
      "metadata": {
        "id": "SvsIFRYfszOJ"
      },
      "source": [
        "The train generator is created and as parameters listed: the train dataset directory, image size, batch size, target size, and shuffle. Shuffle is set to true because during training, we would want the training images to be shuffled at each iteration.\n",
        "\n",
        "`flow_from_directory()` method is used, this is to use the `ImageDataGenerator` class using the variables created in the previous step.\n"
      ]
    },
    {
      "cell_type": "markdown",
      "metadata": {
        "id": "_CNPAxU2uc_4"
      },
      "source": [
        "Validation generator is created with almost the same approach, the difference here, shuffle is set to false, since there is no need to shuffle the images during validation."
      ]
    },
    {
      "cell_type": "code",
      "metadata": {
        "id": "aCLb_yV5JfF3",
        "colab": {
          "base_uri": "https://localhost:8080/",
          "height": 51
        },
        "outputId": "51c9eabc-7a72-4e60-88b1-c906c017407d"
      },
      "source": [
        "IMAGE_SIZE = 224\n",
        "BATCH_SIZE = 64\n",
        "\n",
        "image_generator = tf.keras.preprocessing.image.ImageDataGenerator(\n",
        "    rescale=1./255, \n",
        "    validation_split=0.2)\n",
        "\n",
        "train_data_gen = image_generator.flow_from_directory(\n",
        "    base_dir,\n",
        "    target_size=(IMAGE_SIZE, IMAGE_SIZE),\n",
        "    batch_size=BATCH_SIZE, \n",
        "    subset='training')\n",
        "\n",
        "val_generator = image_generator.flow_from_directory(\n",
        "    base_dir,\n",
        "    target_size=(IMAGE_SIZE, IMAGE_SIZE),\n",
        "    batch_size=BATCH_SIZE, \n",
        "    subset='validation')"
      ],
      "execution_count": null,
      "outputs": [
        {
          "output_type": "stream",
          "text": [
            "Found 2939 images belonging to 5 classes.\n",
            "Found 731 images belonging to 5 classes.\n"
          ],
          "name": "stdout"
        }
      ]
    },
    {
      "cell_type": "markdown",
      "metadata": {
        "id": "TcYB2wc91Uaf"
      },
      "source": [
        "##Creating the Base Model from Google's MobileNetV2"
      ]
    },
    {
      "cell_type": "markdown",
      "metadata": {
        "id": "yI1p_cAhg8T3"
      },
      "source": [
        "`IMAGE_SHAPE` is created as a convenience variable as well, taking in the unified `IMAGE_SIZE` for all images. 3 in the parameter is explained because simply computers interpret colored images as 3D arrays, 3 representing width, height, and depth.\n",
        "\n",
        "Next the base model is created **MobileNet V2** model. It takes the following parameters: `input_shape`, `include_top`, `weights`.\n",
        "\n",
        "*  `input_shape`: simply takes the unified sizes of the input images as input. Images need to be resized to one unified size since our NN requires a fixed size of inputs. \n",
        "\n",
        "*  `include_top`: is set to false because since we need the base model to work as a feature exractor, therefore the parameter is set to false so it does not include the model's classification layers at the top.\n",
        "\n",
        "*  `weights`: using the ImageNet weights.\n"
      ]
    },
    {
      "cell_type": "code",
      "metadata": {
        "id": "19IQ2gqneqmS"
      },
      "source": [
        "IMG_SHAPE = (IMAGE_SIZE, IMAGE_SIZE, 3)\n",
        "\n",
        "base_model = tf.keras.applications.MobileNetV2(input_shape=IMG_SHAPE,\n",
        "                                              include_top=False, \n",
        "                                              weights='imagenet')"
      ],
      "execution_count": null,
      "outputs": []
    },
    {
      "cell_type": "markdown",
      "metadata": {
        "id": "cbCzYS1D2MLO"
      },
      "source": [
        "##Modifying V2 Model"
      ]
    },
    {
      "cell_type": "markdown",
      "metadata": {
        "id": "v4dDZHk31rZF"
      },
      "source": [
        "### Set Feature Extraction Method From V2's Model"
      ]
    },
    {
      "cell_type": "markdown",
      "metadata": {
        "id": "2ZgSW7aDhCux"
      },
      "source": [
        "To be able to use the above model as a feature extractor only, it is set to `False`"
      ]
    },
    {
      "cell_type": "code",
      "metadata": {
        "id": "Tts8BbAtRGvk"
      },
      "source": [
        "base_model.trainable = False"
      ],
      "execution_count": null,
      "outputs": []
    },
    {
      "cell_type": "markdown",
      "metadata": {
        "id": "RlAaGNsbhEVo"
      },
      "source": [
        "### Add the Convolutional Layer"
      ]
    },
    {
      "cell_type": "markdown",
      "metadata": {
        "id": "nCYwuT8i2UlR"
      },
      "source": [
        "After the base model has been set to false, a custom classifier can be added using `tf.keras.Sequential`.\n",
        "\n",
        "First the base model is added. A convolutional layer is added with activation function relu.\n",
        "\n",
        "Dropout is also performed to avoid overfitting, set to probability of 0.2, or 20%, that each neuron gets dropped.\n",
        "\n",
        "A pooling layer is added using `GlobalAveragePooling2D()` to perform pooling.\n",
        "\n",
        "Finally, a fully connected layer is added with 5 units (corresponding to 5 classes of the dataset) with softmax activation function.\n"
      ]
    },
    {
      "cell_type": "code",
      "metadata": {
        "id": "eApvroIyn1K0"
      },
      "source": [
        "model = tf.keras.Sequential([\n",
        "  base_model,\n",
        "  tf.keras.layers.Conv2D(32, 3, activation='relu'),\n",
        "  tf.keras.layers.Dropout(0.2),\n",
        "  tf.keras.layers.GlobalAveragePooling2D(),\n",
        "  tf.keras.layers.Dense(5, activation='softmax')\n",
        "])"
      ],
      "execution_count": null,
      "outputs": []
    },
    {
      "cell_type": "markdown",
      "metadata": {
        "id": "niXQXv7X7iGW"
      },
      "source": [
        "## Compile the Model"
      ]
    },
    {
      "cell_type": "markdown",
      "metadata": {
        "id": "jBpH7OANhJQk"
      },
      "source": [
        "Before the model is trained, it must be compiled using the following `compile()` method. The parameters listed: \n",
        "\n",
        "*   `optimizer`: Using `Adam()` optimizer with default learning rate of 0.001\n",
        "*   `loss`: Using a categorical cross-entropy loss, since there are several classes.\n",
        "*   `metrics`: Since we would want to see the training and validation accuracies, the metrics is set to accuracy.\n",
        "\n"
      ]
    },
    {
      "cell_type": "code",
      "metadata": {
        "id": "RpR8HdyMhukJ"
      },
      "source": [
        "model.compile(optimizer=tf.keras.optimizers.Adam(), \n",
        "              loss='categorical_crossentropy', \n",
        "              metrics=['accuracy'])"
      ],
      "execution_count": null,
      "outputs": []
    },
    {
      "cell_type": "markdown",
      "metadata": {
        "id": "IMe9JfT18nHG"
      },
      "source": [
        "We can check the model's layers along with their information using `summary()` method."
      ]
    },
    {
      "cell_type": "code",
      "metadata": {
        "id": "I8ARiyMFsgbH",
        "colab": {
          "base_uri": "https://localhost:8080/",
          "height": 323
        },
        "outputId": "00952d1c-dd09-49ef-e3c8-4fc2c5e4c153"
      },
      "source": [
        "model.summary()"
      ],
      "execution_count": null,
      "outputs": [
        {
          "output_type": "stream",
          "text": [
            "Model: \"sequential_2\"\n",
            "_________________________________________________________________\n",
            "Layer (type)                 Output Shape              Param #   \n",
            "=================================================================\n",
            "mobilenetv2_1.00_224 (Model) (None, 7, 7, 1280)        2257984   \n",
            "_________________________________________________________________\n",
            "conv2d_2 (Conv2D)            (None, 5, 5, 32)          368672    \n",
            "_________________________________________________________________\n",
            "dropout_2 (Dropout)          (None, 5, 5, 32)          0         \n",
            "_________________________________________________________________\n",
            "global_average_pooling2d_2 ( (None, 32)                0         \n",
            "_________________________________________________________________\n",
            "dense_2 (Dense)              (None, 5)                 165       \n",
            "=================================================================\n",
            "Total params: 2,626,821\n",
            "Trainable params: 368,837\n",
            "Non-trainable params: 2,257,984\n",
            "_________________________________________________________________\n"
          ],
          "name": "stdout"
        }
      ]
    },
    {
      "cell_type": "markdown",
      "metadata": {
        "id": "9zM3Yj74hMbu"
      },
      "source": [
        "## Train the Model"
      ]
    },
    {
      "cell_type": "markdown",
      "metadata": {
        "id": "CpaxsDEd83lA"
      },
      "source": [
        "With 100 epochs set, and using the previous generators created earlier, the model can now be finally trained."
      ]
    },
    {
      "cell_type": "code",
      "metadata": {
        "id": "JsaRFlZ9B6WK",
        "colab": {
          "base_uri": "https://localhost:8080/",
          "height": 3417
        },
        "outputId": "77b447c2-8f6e-46b7-e0bd-71377a113c71"
      },
      "source": [
        "epochs = 100\n",
        "\n",
        "history = model.fit(train_data_gen, \n",
        "                    steps_per_epoch=len(train_data_gen), \n",
        "                    epochs=epochs, \n",
        "                    validation_data=val_data_gen, \n",
        "                    validation_steps=len(val_data_gen))"
      ],
      "execution_count": null,
      "outputs": [
        {
          "output_type": "stream",
          "text": [
            "Epoch 1/100\n",
            "46/46 [==============================] - 15s 319ms/step - loss: 0.9821 - accuracy: 0.7081 - val_loss: 0.4905 - val_accuracy: 0.8276\n",
            "Epoch 2/100\n",
            "46/46 [==============================] - 13s 288ms/step - loss: 0.3313 - accuracy: 0.8847 - val_loss: 0.4234 - val_accuracy: 0.8399\n",
            "Epoch 3/100\n",
            "46/46 [==============================] - 13s 290ms/step - loss: 0.2314 - accuracy: 0.9160 - val_loss: 0.4006 - val_accuracy: 0.8632\n",
            "Epoch 4/100\n",
            "46/46 [==============================] - 13s 288ms/step - loss: 0.1453 - accuracy: 0.9547 - val_loss: 0.4105 - val_accuracy: 0.8618\n",
            "Epoch 5/100\n",
            "46/46 [==============================] - 13s 282ms/step - loss: 0.1007 - accuracy: 0.9752 - val_loss: 0.4615 - val_accuracy: 0.8550\n",
            "Epoch 6/100\n",
            "46/46 [==============================] - 13s 284ms/step - loss: 0.0793 - accuracy: 0.9786 - val_loss: 0.4402 - val_accuracy: 0.8700\n",
            "Epoch 7/100\n",
            "46/46 [==============================] - 13s 286ms/step - loss: 0.0524 - accuracy: 0.9898 - val_loss: 0.4657 - val_accuracy: 0.8605\n",
            "Epoch 8/100\n",
            "46/46 [==============================] - 13s 283ms/step - loss: 0.0433 - accuracy: 0.9929 - val_loss: 0.4776 - val_accuracy: 0.8646\n",
            "Epoch 9/100\n",
            "46/46 [==============================] - 13s 282ms/step - loss: 0.0342 - accuracy: 0.9932 - val_loss: 0.5406 - val_accuracy: 0.8550\n",
            "Epoch 10/100\n",
            "46/46 [==============================] - 13s 282ms/step - loss: 0.0233 - accuracy: 0.9976 - val_loss: 0.5363 - val_accuracy: 0.8550\n",
            "Epoch 11/100\n",
            "46/46 [==============================] - 13s 282ms/step - loss: 0.0171 - accuracy: 0.9997 - val_loss: 0.5130 - val_accuracy: 0.8632\n",
            "Epoch 12/100\n",
            "46/46 [==============================] - 13s 281ms/step - loss: 0.0151 - accuracy: 0.9997 - val_loss: 0.5372 - val_accuracy: 0.8673\n",
            "Epoch 13/100\n",
            "46/46 [==============================] - 13s 281ms/step - loss: 0.0107 - accuracy: 0.9997 - val_loss: 0.5428 - val_accuracy: 0.8550\n",
            "Epoch 14/100\n",
            "46/46 [==============================] - 13s 280ms/step - loss: 0.0101 - accuracy: 0.9997 - val_loss: 0.5337 - val_accuracy: 0.8714\n",
            "Epoch 15/100\n",
            "46/46 [==============================] - 13s 283ms/step - loss: 0.0104 - accuracy: 0.9986 - val_loss: 0.5569 - val_accuracy: 0.8659\n",
            "Epoch 16/100\n",
            "46/46 [==============================] - 13s 282ms/step - loss: 0.0092 - accuracy: 0.9993 - val_loss: 0.5885 - val_accuracy: 0.8687\n",
            "Epoch 17/100\n",
            "46/46 [==============================] - 13s 281ms/step - loss: 0.0069 - accuracy: 1.0000 - val_loss: 0.5915 - val_accuracy: 0.8618\n",
            "Epoch 18/100\n",
            "46/46 [==============================] - 13s 283ms/step - loss: 0.0058 - accuracy: 1.0000 - val_loss: 0.6036 - val_accuracy: 0.8605\n",
            "Epoch 19/100\n",
            "46/46 [==============================] - 13s 281ms/step - loss: 0.0045 - accuracy: 0.9997 - val_loss: 0.6101 - val_accuracy: 0.8700\n",
            "Epoch 20/100\n",
            "46/46 [==============================] - 13s 280ms/step - loss: 0.0047 - accuracy: 1.0000 - val_loss: 0.6326 - val_accuracy: 0.8618\n",
            "Epoch 21/100\n",
            "46/46 [==============================] - 13s 281ms/step - loss: 0.0042 - accuracy: 1.0000 - val_loss: 0.6155 - val_accuracy: 0.8659\n",
            "Epoch 22/100\n",
            "46/46 [==============================] - 13s 283ms/step - loss: 0.0034 - accuracy: 1.0000 - val_loss: 0.6419 - val_accuracy: 0.8550\n",
            "Epoch 23/100\n",
            "46/46 [==============================] - 13s 282ms/step - loss: 0.0031 - accuracy: 1.0000 - val_loss: 0.6423 - val_accuracy: 0.8564\n",
            "Epoch 24/100\n",
            "46/46 [==============================] - 13s 282ms/step - loss: 0.0026 - accuracy: 1.0000 - val_loss: 0.6311 - val_accuracy: 0.8673\n",
            "Epoch 25/100\n",
            "46/46 [==============================] - 13s 283ms/step - loss: 0.0026 - accuracy: 1.0000 - val_loss: 0.6409 - val_accuracy: 0.8659\n",
            "Epoch 26/100\n",
            "46/46 [==============================] - 13s 279ms/step - loss: 0.0024 - accuracy: 1.0000 - val_loss: 0.6439 - val_accuracy: 0.8700\n",
            "Epoch 27/100\n",
            "46/46 [==============================] - 13s 278ms/step - loss: 0.0040 - accuracy: 0.9993 - val_loss: 0.6852 - val_accuracy: 0.8509\n",
            "Epoch 28/100\n",
            "46/46 [==============================] - 13s 278ms/step - loss: 0.0030 - accuracy: 1.0000 - val_loss: 0.6648 - val_accuracy: 0.8632\n",
            "Epoch 29/100\n",
            "46/46 [==============================] - 13s 279ms/step - loss: 0.0022 - accuracy: 1.0000 - val_loss: 0.6878 - val_accuracy: 0.8646\n",
            "Epoch 30/100\n",
            "46/46 [==============================] - 13s 278ms/step - loss: 0.0019 - accuracy: 1.0000 - val_loss: 0.6799 - val_accuracy: 0.8659\n",
            "Epoch 31/100\n",
            "46/46 [==============================] - 13s 282ms/step - loss: 0.0017 - accuracy: 1.0000 - val_loss: 0.6701 - val_accuracy: 0.8659\n",
            "Epoch 32/100\n",
            "46/46 [==============================] - 13s 278ms/step - loss: 0.0016 - accuracy: 1.0000 - val_loss: 0.6911 - val_accuracy: 0.8605\n",
            "Epoch 33/100\n",
            "46/46 [==============================] - 13s 278ms/step - loss: 0.0014 - accuracy: 1.0000 - val_loss: 0.6977 - val_accuracy: 0.8618\n",
            "Epoch 34/100\n",
            "46/46 [==============================] - 13s 277ms/step - loss: 0.0013 - accuracy: 1.0000 - val_loss: 0.7061 - val_accuracy: 0.8646\n",
            "Epoch 35/100\n",
            "46/46 [==============================] - 13s 277ms/step - loss: 0.0013 - accuracy: 1.0000 - val_loss: 0.7201 - val_accuracy: 0.8591\n",
            "Epoch 36/100\n",
            "46/46 [==============================] - 13s 277ms/step - loss: 0.0012 - accuracy: 1.0000 - val_loss: 0.7117 - val_accuracy: 0.8632\n",
            "Epoch 37/100\n",
            "46/46 [==============================] - 13s 279ms/step - loss: 0.0012 - accuracy: 1.0000 - val_loss: 0.7063 - val_accuracy: 0.8646\n",
            "Epoch 38/100\n",
            "46/46 [==============================] - 13s 278ms/step - loss: 9.4960e-04 - accuracy: 1.0000 - val_loss: 0.7079 - val_accuracy: 0.8659\n",
            "Epoch 39/100\n",
            "46/46 [==============================] - 13s 277ms/step - loss: 0.0010 - accuracy: 1.0000 - val_loss: 0.7492 - val_accuracy: 0.8495\n",
            "Epoch 40/100\n",
            "46/46 [==============================] - 13s 278ms/step - loss: 0.0013 - accuracy: 1.0000 - val_loss: 0.7259 - val_accuracy: 0.8687\n",
            "Epoch 41/100\n",
            "46/46 [==============================] - 13s 277ms/step - loss: 9.7443e-04 - accuracy: 1.0000 - val_loss: 0.7408 - val_accuracy: 0.8659\n",
            "Epoch 42/100\n",
            "46/46 [==============================] - 13s 283ms/step - loss: 8.9963e-04 - accuracy: 1.0000 - val_loss: 0.7411 - val_accuracy: 0.8659\n",
            "Epoch 43/100\n",
            "46/46 [==============================] - 13s 282ms/step - loss: 8.0343e-04 - accuracy: 1.0000 - val_loss: 0.7351 - val_accuracy: 0.8659\n",
            "Epoch 44/100\n",
            "46/46 [==============================] - 13s 276ms/step - loss: 8.2047e-04 - accuracy: 1.0000 - val_loss: 0.7385 - val_accuracy: 0.8687\n",
            "Epoch 45/100\n",
            "46/46 [==============================] - 13s 277ms/step - loss: 8.5328e-04 - accuracy: 1.0000 - val_loss: 0.7397 - val_accuracy: 0.8618\n",
            "Epoch 46/100\n",
            "46/46 [==============================] - 13s 276ms/step - loss: 8.1047e-04 - accuracy: 1.0000 - val_loss: 0.7600 - val_accuracy: 0.8564\n",
            "Epoch 47/100\n",
            "46/46 [==============================] - 13s 275ms/step - loss: 6.4894e-04 - accuracy: 1.0000 - val_loss: 0.7545 - val_accuracy: 0.8659\n",
            "Epoch 48/100\n",
            "46/46 [==============================] - 13s 278ms/step - loss: 6.1144e-04 - accuracy: 1.0000 - val_loss: 0.7567 - val_accuracy: 0.8700\n",
            "Epoch 49/100\n",
            "46/46 [==============================] - 13s 278ms/step - loss: 7.1473e-04 - accuracy: 1.0000 - val_loss: 0.7737 - val_accuracy: 0.8659\n",
            "Epoch 50/100\n",
            "46/46 [==============================] - 13s 276ms/step - loss: 5.6202e-04 - accuracy: 1.0000 - val_loss: 0.7785 - val_accuracy: 0.8687\n",
            "Epoch 51/100\n",
            "46/46 [==============================] - 13s 276ms/step - loss: 5.7646e-04 - accuracy: 1.0000 - val_loss: 0.7797 - val_accuracy: 0.8632\n",
            "Epoch 52/100\n",
            "46/46 [==============================] - 13s 275ms/step - loss: 6.3742e-04 - accuracy: 1.0000 - val_loss: 0.7812 - val_accuracy: 0.8687\n",
            "Epoch 53/100\n",
            "46/46 [==============================] - 13s 275ms/step - loss: 6.9131e-04 - accuracy: 1.0000 - val_loss: 0.7943 - val_accuracy: 0.8632\n",
            "Epoch 54/100\n",
            "46/46 [==============================] - 13s 275ms/step - loss: 0.0013 - accuracy: 1.0000 - val_loss: 0.7717 - val_accuracy: 0.8536\n",
            "Epoch 55/100\n",
            "46/46 [==============================] - 13s 278ms/step - loss: 0.0023 - accuracy: 0.9997 - val_loss: 0.8204 - val_accuracy: 0.8523\n",
            "Epoch 56/100\n",
            "46/46 [==============================] - 13s 277ms/step - loss: 0.1302 - accuracy: 0.9626 - val_loss: 0.9320 - val_accuracy: 0.8003\n",
            "Epoch 57/100\n",
            "46/46 [==============================] - 13s 275ms/step - loss: 0.2246 - accuracy: 0.9258 - val_loss: 0.6895 - val_accuracy: 0.8413\n",
            "Epoch 58/100\n",
            "46/46 [==============================] - 13s 275ms/step - loss: 0.0682 - accuracy: 0.9803 - val_loss: 0.7861 - val_accuracy: 0.8482\n",
            "Epoch 59/100\n",
            "46/46 [==============================] - 13s 276ms/step - loss: 0.0259 - accuracy: 0.9918 - val_loss: 1.0117 - val_accuracy: 0.8345\n",
            "Epoch 60/100\n",
            "46/46 [==============================] - 13s 285ms/step - loss: 0.0635 - accuracy: 0.9799 - val_loss: 0.9619 - val_accuracy: 0.8427\n",
            "Epoch 61/100\n",
            "46/46 [==============================] - 13s 280ms/step - loss: 0.0233 - accuracy: 0.9915 - val_loss: 0.9538 - val_accuracy: 0.8728\n",
            "Epoch 62/100\n",
            "46/46 [==============================] - 13s 284ms/step - loss: 0.0086 - accuracy: 0.9980 - val_loss: 0.9556 - val_accuracy: 0.8427\n",
            "Epoch 63/100\n",
            "46/46 [==============================] - 13s 280ms/step - loss: 0.0036 - accuracy: 0.9997 - val_loss: 0.9334 - val_accuracy: 0.8591\n",
            "Epoch 64/100\n",
            "46/46 [==============================] - 13s 281ms/step - loss: 0.0017 - accuracy: 0.9997 - val_loss: 0.9505 - val_accuracy: 0.8646\n",
            "Epoch 65/100\n",
            "46/46 [==============================] - 13s 285ms/step - loss: 9.5093e-04 - accuracy: 1.0000 - val_loss: 1.0047 - val_accuracy: 0.8646\n",
            "Epoch 66/100\n",
            "46/46 [==============================] - 13s 286ms/step - loss: 8.8759e-04 - accuracy: 1.0000 - val_loss: 0.9964 - val_accuracy: 0.8687\n",
            "Epoch 67/100\n",
            "46/46 [==============================] - 13s 282ms/step - loss: 7.5665e-04 - accuracy: 1.0000 - val_loss: 1.0085 - val_accuracy: 0.8673\n",
            "Epoch 68/100\n",
            "46/46 [==============================] - 13s 285ms/step - loss: 4.8475e-04 - accuracy: 1.0000 - val_loss: 1.0105 - val_accuracy: 0.8659\n",
            "Epoch 69/100\n",
            "46/46 [==============================] - 13s 287ms/step - loss: 5.9027e-04 - accuracy: 1.0000 - val_loss: 1.0429 - val_accuracy: 0.8632\n",
            "Epoch 70/100\n",
            "46/46 [==============================] - 13s 281ms/step - loss: 5.8790e-04 - accuracy: 1.0000 - val_loss: 1.0313 - val_accuracy: 0.8618\n",
            "Epoch 71/100\n",
            "46/46 [==============================] - 13s 280ms/step - loss: 0.0017 - accuracy: 0.9993 - val_loss: 1.0848 - val_accuracy: 0.8536\n",
            "Epoch 72/100\n",
            "46/46 [==============================] - 13s 283ms/step - loss: 8.1472e-04 - accuracy: 1.0000 - val_loss: 1.0437 - val_accuracy: 0.8659\n",
            "Epoch 73/100\n",
            "46/46 [==============================] - 13s 283ms/step - loss: 3.8105e-04 - accuracy: 1.0000 - val_loss: 1.0523 - val_accuracy: 0.8659\n",
            "Epoch 74/100\n",
            "46/46 [==============================] - 13s 285ms/step - loss: 7.7147e-04 - accuracy: 1.0000 - val_loss: 1.0251 - val_accuracy: 0.8659\n",
            "Epoch 75/100\n",
            "46/46 [==============================] - 13s 281ms/step - loss: 6.7529e-04 - accuracy: 1.0000 - val_loss: 1.0300 - val_accuracy: 0.8659\n",
            "Epoch 76/100\n",
            "46/46 [==============================] - 13s 285ms/step - loss: 4.4342e-04 - accuracy: 1.0000 - val_loss: 1.0548 - val_accuracy: 0.8632\n",
            "Epoch 77/100\n",
            "46/46 [==============================] - 13s 284ms/step - loss: 4.0170e-04 - accuracy: 1.0000 - val_loss: 1.0699 - val_accuracy: 0.8646\n",
            "Epoch 78/100\n",
            "46/46 [==============================] - 13s 280ms/step - loss: 3.1194e-04 - accuracy: 1.0000 - val_loss: 1.0713 - val_accuracy: 0.8646\n",
            "Epoch 79/100\n",
            "46/46 [==============================] - 13s 284ms/step - loss: 3.5176e-04 - accuracy: 1.0000 - val_loss: 1.0745 - val_accuracy: 0.8632\n",
            "Epoch 80/100\n",
            "46/46 [==============================] - 13s 285ms/step - loss: 3.7393e-04 - accuracy: 1.0000 - val_loss: 1.0695 - val_accuracy: 0.8605\n",
            "Epoch 81/100\n",
            "46/46 [==============================] - 13s 281ms/step - loss: 3.2897e-04 - accuracy: 1.0000 - val_loss: 1.0781 - val_accuracy: 0.8646\n",
            "Epoch 82/100\n",
            "46/46 [==============================] - 13s 282ms/step - loss: 4.3108e-04 - accuracy: 1.0000 - val_loss: 1.0746 - val_accuracy: 0.8632\n",
            "Epoch 83/100\n",
            "46/46 [==============================] - 13s 278ms/step - loss: 0.0020 - accuracy: 0.9990 - val_loss: 1.2204 - val_accuracy: 0.8536\n",
            "Epoch 84/100\n",
            "46/46 [==============================] - 13s 277ms/step - loss: 0.0042 - accuracy: 0.9990 - val_loss: 1.0969 - val_accuracy: 0.8440\n",
            "Epoch 85/100\n",
            "46/46 [==============================] - 13s 274ms/step - loss: 0.0020 - accuracy: 0.9997 - val_loss: 1.1307 - val_accuracy: 0.8577\n",
            "Epoch 86/100\n",
            "46/46 [==============================] - 13s 283ms/step - loss: 3.8238e-04 - accuracy: 1.0000 - val_loss: 1.0903 - val_accuracy: 0.8605\n",
            "Epoch 87/100\n",
            "46/46 [==============================] - 13s 279ms/step - loss: 3.1039e-04 - accuracy: 1.0000 - val_loss: 1.1000 - val_accuracy: 0.8605\n",
            "Epoch 88/100\n",
            "46/46 [==============================] - 13s 281ms/step - loss: 2.3162e-04 - accuracy: 1.0000 - val_loss: 1.1053 - val_accuracy: 0.8605\n",
            "Epoch 89/100\n",
            "46/46 [==============================] - 13s 284ms/step - loss: 1.5515e-04 - accuracy: 1.0000 - val_loss: 1.1223 - val_accuracy: 0.8605\n",
            "Epoch 90/100\n",
            "46/46 [==============================] - 13s 277ms/step - loss: 2.4955e-04 - accuracy: 1.0000 - val_loss: 1.1195 - val_accuracy: 0.8536\n",
            "Epoch 91/100\n",
            "46/46 [==============================] - 12s 269ms/step - loss: 2.1410e-04 - accuracy: 1.0000 - val_loss: 1.1505 - val_accuracy: 0.8591\n",
            "Epoch 92/100\n",
            "46/46 [==============================] - 13s 276ms/step - loss: 2.6644e-04 - accuracy: 1.0000 - val_loss: 1.1318 - val_accuracy: 0.8618\n",
            "Epoch 93/100\n",
            "46/46 [==============================] - 13s 273ms/step - loss: 2.0178e-04 - accuracy: 1.0000 - val_loss: 1.1422 - val_accuracy: 0.8632\n",
            "Epoch 94/100\n",
            "46/46 [==============================] - 12s 268ms/step - loss: 1.2942e-04 - accuracy: 1.0000 - val_loss: 1.1486 - val_accuracy: 0.8632\n",
            "Epoch 95/100\n",
            "46/46 [==============================] - 12s 270ms/step - loss: 1.6643e-04 - accuracy: 1.0000 - val_loss: 1.1437 - val_accuracy: 0.8605\n",
            "Epoch 96/100\n",
            "46/46 [==============================] - 12s 271ms/step - loss: 1.6268e-04 - accuracy: 1.0000 - val_loss: 1.1586 - val_accuracy: 0.8618\n",
            "Epoch 97/100\n",
            "46/46 [==============================] - 12s 270ms/step - loss: 2.0306e-04 - accuracy: 1.0000 - val_loss: 1.1578 - val_accuracy: 0.8577\n",
            "Epoch 98/100\n",
            "46/46 [==============================] - 12s 271ms/step - loss: 1.3325e-04 - accuracy: 1.0000 - val_loss: 1.1658 - val_accuracy: 0.8605\n",
            "Epoch 99/100\n",
            "46/46 [==============================] - 12s 269ms/step - loss: 1.0746e-04 - accuracy: 1.0000 - val_loss: 1.1756 - val_accuracy: 0.8605\n",
            "Epoch 100/100\n",
            "46/46 [==============================] - 12s 267ms/step - loss: 9.6647e-05 - accuracy: 1.0000 - val_loss: 1.1745 - val_accuracy: 0.8605\n"
          ],
          "name": "stdout"
        }
      ]
    },
    {
      "cell_type": "markdown",
      "metadata": {
        "id": "EIVrmmvO-E9h"
      },
      "source": [
        "## Plotting the Results"
      ]
    },
    {
      "cell_type": "markdown",
      "metadata": {
        "id": "je1-VqCbhSPI"
      },
      "source": [
        " We can plot the results using `matplotlib`'s help. Here we can specify what we want to translate the results from the previous step into graphs.\n",
        "\n",
        "In the following 2 graphs, we can see the training and validation accuracies, as well as the training and validation losses. "
      ]
    },
    {
      "cell_type": "code",
      "metadata": {
        "id": "53OTCh3jnbwV",
        "colab": {
          "base_uri": "https://localhost:8080/",
          "height": 513
        },
        "outputId": "a1f752be-f9ba-4e94-86f3-18a82f0d45d4"
      },
      "source": [
        "acc = history.history['accuracy']\n",
        "val_acc = history.history['val_accuracy']\n",
        "\n",
        "loss = history.history['loss']\n",
        "val_loss = history.history['val_loss']\n",
        "\n",
        "plt.figure(figsize=(8, 8))\n",
        "plt.subplot(2, 1, 1)\n",
        "plt.plot(acc, label='Training Accuracy')\n",
        "plt.plot(val_acc, label='Validation Accuracy')\n",
        "plt.legend(loc='lower right')\n",
        "plt.ylabel('Accuracy')\n",
        "plt.ylim([min(plt.ylim()),1])\n",
        "plt.title('Training and Validation Accuracy')\n",
        "\n",
        "plt.subplot(2, 1, 2)\n",
        "plt.plot(loss, label='Training Loss')\n",
        "plt.plot(val_loss, label='Validation Loss')\n",
        "plt.legend(loc='upper right')\n",
        "plt.ylabel('Cross Entropy')\n",
        "plt.ylim([0,1.0])\n",
        "plt.title('Training and Validation Loss')\n",
        "plt.xlabel('epoch')\n",
        "plt.show()"
      ],
      "execution_count": null,
      "outputs": [
        {
          "output_type": "display_data",
          "data": {
            "image/png": "[encoded data removed]",
            "text/plain": [
              "<Figure size 576x576 with 2 Axes>"
            ]
          },
          "metadata": {
            "tags": [],
            "needs_background": "light"
          }
        }
      ]
    }
  ]
}